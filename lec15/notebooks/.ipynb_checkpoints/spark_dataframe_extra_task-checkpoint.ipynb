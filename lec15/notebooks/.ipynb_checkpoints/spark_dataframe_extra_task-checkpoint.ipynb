{
 "cells": [
  {
   "cell_type": "code",
   "execution_count": 4,
   "metadata": {},
   "outputs": [],
   "source": [
    "from pyspark.sql import SparkSession, functions as F, types as T"
   ]
  },
  {
   "cell_type": "code",
   "execution_count": 5,
   "metadata": {
    "collapsed": false,
    "jupyter": {
     "outputs_hidden": false
    },
    "pycharm": {
     "is_executing": true
    }
   },
   "outputs": [],
   "source": [
    "spark = SparkSession.builder.master(\"spark://spark-master:7077\").config(\"spark.jars.packages\", \n",
    "                                                                        \"org.apache.hadoop:hadoop-aws-2.7.3\").appName(\"spark-hw\").getOrCreate()"
   ]
  },
  {
   "cell_type": "code",
   "execution_count": 6,
   "metadata": {
    "collapsed": false,
    "jupyter": {
     "outputs_hidden": false
    }
   },
   "outputs": [
    {
     "name": "stdout",
     "output_type": "stream",
     "text": [
      "3.5.5\n"
     ]
    }
   ],
   "source": [
    "print(spark.version)"
   ]
  },
  {
   "cell_type": "code",
   "execution_count": 7,
   "metadata": {
    "collapsed": false,
    "jupyter": {
     "outputs_hidden": false
    }
   },
   "outputs": [
    {
     "name": "stderr",
     "output_type": "stream",
     "text": [
      "                                                                                "
     ]
    }
   ],
   "source": [
    "actor_df = spark.read.csv('../data/actor.csv', header=True, inferSchema=True)\n",
    "address_df = spark.read.csv('../data/address.csv', header=True, inferSchema=True)\n",
    "category_df = spark.read.csv('../data/category.csv', header=True, inferSchema=True)\n",
    "city_df = spark.read.csv('../data/city.csv', header=True, inferSchema=True)\n",
    "country_df = spark.read.csv('../data/country.csv', header=True, inferSchema=True)\n",
    "customer_df = spark.read.csv('../data/customer.csv', header=True, inferSchema=True)\n",
    "film_df = spark.read.csv('../data/film.csv', header=True, inferSchema=True)\n",
    "film_actor_df = spark.read.csv('../data/film_actor.csv', header=True, inferSchema=True)\n",
    "film_category_df = spark.read.csv('../data/film_category.csv', header=True, inferSchema=True)\n",
    "inventory_df = spark.read.csv('../data/inventory.csv', header=True, inferSchema=True)\n",
    "language_df = spark.read.csv('../data/language.csv', header=True, inferSchema=True)\n",
    "payment_df = spark.read.csv('../data/payment.csv', header=True, inferSchema=True)\n",
    "rental_df = spark.read.csv('../data/rental.csv', header=True, inferSchema=True)\n",
    "staff_df = spark.read.csv('../data/staff.csv', header=True, inferSchema=True)\n",
    "store_df = spark.read.csv('../data/store.csv', header=True, inferSchema=True)"
   ]
  },
  {
   "cell_type": "markdown",
   "metadata": {
    "collapsed": false,
    "jupyter": {
     "outputs_hidden": false
    }
   },
   "source": [
    "# Домашнє завдання на тему Spark SQL\n",
    "\n",
    "Задачі з домашнього завдання на SQL потрібно розвʼязати за допомогою Spark SQL DataFrame API.\n",
    "\n",
    "- Дампи таблиць знаходяться в папці `data`. Датафрейми таблиць вже створені в клітинці вище.\n",
    "- Можете створювати стільки нових клітинок, скільки вам необхідно.\n",
    "- Розвʼязок кожної задачі має бути відображений в самому файлі (використати метод `.show()`)\n",
    "- код має бути оформлений у відповідності із одним із стилем, показаним лектором на занятті 13.\n",
    "\n",
    "**Увага!**\n",
    "Використовувати мову запитів SQL безпосередньо забороняється, потрібно використовувати виключно DataFrame API!\n"
   ]
  },
  {
   "cell_type": "markdown",
   "metadata": {
    "collapsed": false,
    "jupyter": {
     "outputs_hidden": false
    }
   },
   "source": [
    "1.\n",
    "Вивести кількість фільмів в кожній категорії.\n",
    "Результат відсортувати за спаданням."
   ]
  },
  {
   "cell_type": "code",
   "execution_count": 24,
   "metadata": {},
   "outputs": [
    {
     "name": "stdout",
     "output_type": "stream",
     "text": [
      "+-------------+-----------+\n",
      "|film_category|films_count|\n",
      "+-------------+-----------+\n",
      "|       Sports|         74|\n",
      "|      Foreign|         73|\n",
      "|       Family|         69|\n",
      "|  Documentary|         68|\n",
      "|    Animation|         66|\n",
      "|       Action|         64|\n",
      "|          New|         63|\n",
      "|        Drama|         62|\n",
      "|        Games|         61|\n",
      "|       Sci-Fi|         61|\n",
      "|     Children|         60|\n",
      "|       Comedy|         58|\n",
      "|       Travel|         57|\n",
      "|     Classics|         57|\n",
      "|       Horror|         56|\n",
      "|        Music|         51|\n",
      "+-------------+-----------+\n",
      "\n"
     ]
    }
   ],
   "source": [
    "film_with_fc_df = film_df.join(\n",
    "    film_category_df,\n",
    "    film_df.film_id == film_category_df.film_id,\n",
    "    \"left\"\n",
    ")\n",
    "\n",
    "film_with_category_df = film_with_fc_df.join(\n",
    "    category_df,\n",
    "    film_category_df.category_id == category_df.category_id,\n",
    "    \"left\"\n",
    ")\n",
    "\n",
    "film_with_category_sorted_df = film_with_category_df.groupBy(\n",
    "    category_df[\"name\"].alias(\"film_category\")\n",
    ").agg(\n",
    "    F.countDistinct(film_df.film_id).alias(\"films_count\")\n",
    ").orderBy(\n",
    "    F.col(\"films_count\").desc()\n",
    ")\n",
    "\n",
    "film_with_category_sorted_df.show()"
   ]
  },
  {
   "cell_type": "markdown",
   "metadata": {
    "collapsed": false,
    "jupyter": {
     "outputs_hidden": false
    }
   },
   "source": [
    "2.\n",
    "Вивести 10 акторів, чиї фільми брали на прокат найбільше.\n",
    "Результат відсортувати за спаданням."
   ]
  },
  {
   "cell_type": "code",
   "execution_count": 23,
   "metadata": {},
   "outputs": [
    {
     "name": "stderr",
     "output_type": "stream",
     "text": [
      "[Stage 52:>                                                         (0 + 1) / 1]"
     ]
    },
    {
     "name": "stdout",
     "output_type": "stream",
     "text": [
      "+------------------+-------------+\n",
      "|             actor|rentals_count|\n",
      "+------------------+-------------+\n",
      "|    GINA DEGENERES|          753|\n",
      "|    MATTHEW CARREY|          678|\n",
      "|       MARY KEITEL|          674|\n",
      "|ANGELA WITHERSPOON|          654|\n",
      "|       WALTER TORN|          640|\n",
      "|       HENRY BERRY|          612|\n",
      "|       JAYNE NOLTE|          611|\n",
      "|        VAL BOLGER|          605|\n",
      "|     SANDRA KILMER|          604|\n",
      "|      SEAN GUINESS|          599|\n",
      "+------------------+-------------+\n",
      "\n"
     ]
    },
    {
     "name": "stderr",
     "output_type": "stream",
     "text": [
      "                                                                                "
     ]
    }
   ],
   "source": [
    "rental_inventory_df = rental_df.join(\n",
    "    inventory_df,\n",
    "    on=rental_df[\"inventory_id\"] == inventory_df[\"inventory_id\"],\n",
    "    how=\"left\"\n",
    ")\n",
    "\n",
    "film_actor_rental_inventory_df = rental_inventory_df.join(\n",
    "    film_actor_df,\n",
    "    on=inventory_df[\"film_id\"] == film_actor_df[\"film_id\"],\n",
    "    how=\"left\"\n",
    ")\n",
    "\n",
    "actor_rental_df = film_actor_rental_inventory_df.join(\n",
    "    actor_df,\n",
    "    on=film_actor_df[\"actor_id\"] == actor_df[\"actor_id\"],\n",
    "    how=\"left\"\n",
    ")\n",
    "\n",
    "top_rented_actor_films_df = actor_rental_df.groupBy(\n",
    "    film_actor_df[\"actor_id\"],\n",
    "    actor_df[\"first_name\"],\n",
    "    actor_df[\"last_name\"]\n",
    ").agg(\n",
    "    F.countDistinct(F.col(\"rental_id\")).alias(\"rentals_count\")\n",
    ").withColumn(\n",
    "    \"actor\",\n",
    "    F.concat_ws(\" \", F.col(\"first_name\"), F.col(\"last_name\"))\n",
    ").select(\n",
    "    \"actor\", \"rentals_count\"\n",
    ").orderBy(\n",
    "    F.col(\"rentals_count\").desc()\n",
    ").limit(10)\n",
    "\n",
    "top_rented_actor_films_df.show()"
   ]
  },
  {
   "cell_type": "markdown",
   "metadata": {
    "collapsed": false,
    "jupyter": {
     "outputs_hidden": false
    }
   },
   "source": [
    "3.\n",
    "Вивести категорія фільмів, на яку було витрачено найбільше грошей\n",
    "в прокаті"
   ]
  },
  {
   "cell_type": "code",
   "execution_count": 25,
   "metadata": {
    "collapsed": false,
    "jupyter": {
     "outputs_hidden": false
    }
   },
   "outputs": [
    {
     "name": "stdout",
     "output_type": "stream",
     "text": [
      "+------+-----------------+\n",
      "|  name|   rental_revenue|\n",
      "+------+-----------------+\n",
      "|Sports|5314.209999999847|\n",
      "+------+-----------------+\n",
      "\n"
     ]
    }
   ],
   "source": [
    "payment_with_rental_df = payment_df.join(\n",
    "    rental_df,\n",
    "    payment_df.rental_id == rental_df.rental_id,\n",
    "    \"left\"\n",
    ")\n",
    "\n",
    "payment_with_inventory_df = payment_with_rental_df.join(\n",
    "    inventory_df,\n",
    "    rental_df.inventory_id == inventory_df.inventory_id,\n",
    "    \"left\"\n",
    ")\n",
    "\n",
    "payment_with_film_category_df = payment_with_inventory_df.join(\n",
    "    film_category_df,\n",
    "    inventory_df.film_id == film_category_df.film_id,\n",
    "    \"left\"\n",
    ")\n",
    "\n",
    "payment_with_category_df = payment_with_film_category_df.join(\n",
    "    category_df,\n",
    "    film_category_df.category_id == category_df.category_id,\n",
    "    \"left\"\n",
    ")\n",
    "\n",
    "category_revenue_df = payment_with_category_df.groupBy(\n",
    "    category_df[\"name\"]\n",
    ").agg(\n",
    "    F.sum(payment_df.amount).alias(\"rental_revenue\")\n",
    ").orderBy(\n",
    "    F.col(\"rental_revenue\").desc()\n",
    ").limit(1)\n",
    "\n",
    "category_revenue_df.show()"
   ]
  },
  {
   "cell_type": "markdown",
   "metadata": {
    "collapsed": false,
    "jupyter": {
     "outputs_hidden": false
    }
   },
   "source": [
    "4.\n",
    "Вивести назви фільмів, яких не має в inventory."
   ]
  },
  {
   "cell_type": "code",
   "execution_count": 29,
   "metadata": {
    "collapsed": false,
    "jupyter": {
     "outputs_hidden": false
    }
   },
   "outputs": [
    {
     "name": "stdout",
     "output_type": "stream",
     "text": [
      "+--------------------+\n",
      "|               title|\n",
      "+--------------------+\n",
      "|      ALICE FANTASIA|\n",
      "|         APOLLO TEEN|\n",
      "|      ARGONAUTS TOWN|\n",
      "|       ARK RIDGEMONT|\n",
      "|ARSENIC INDEPENDENCE|\n",
      "|   BOONDOCK BALLROOM|\n",
      "|       BUTCH PANTHER|\n",
      "|       CATCH AMISTAD|\n",
      "| CHINATOWN GLADIATOR|\n",
      "|      CHOCOLATE DUCK|\n",
      "|COMMANDMENTS EXPRESS|\n",
      "|    CROSSING DIVORCE|\n",
      "|     CROWDS TELEMARK|\n",
      "|    CRYSTAL BREAKING|\n",
      "|          DAZED PUNK|\n",
      "|DELIVERANCE MULHO...|\n",
      "|   FIREHOUSE VIETNAM|\n",
      "|       FLOATS GARDEN|\n",
      "|FRANKENSTEIN STRA...|\n",
      "|  GLADIATOR WESTWARD|\n",
      "+--------------------+\n",
      "only showing top 20 rows\n",
      "\n"
     ]
    }
   ],
   "source": [
    "film_inventory_joined_df = film_df.join(\n",
    "    inventory_df,\n",
    "    film_df.film_id == inventory_df.film_id,\n",
    "    \"left\"\n",
    ")\n",
    "\n",
    "films_without_inventory_df = film_inventory_joined_df.filter(\n",
    "    inventory_df.inventory_id.isNull()\n",
    ").select(\n",
    "    film_df.title\n",
    ")\n",
    "\n",
    "films_without_inventory_df.show()"
   ]
  },
  {
   "cell_type": "markdown",
   "metadata": {
    "collapsed": false,
    "jupyter": {
     "outputs_hidden": false
    }
   },
   "source": [
    "5.\n",
    "Вивести топ 3 актори, які найбільше зʼявлялись в категорії фільмів “Children”"
   ]
  },
  {
   "cell_type": "code",
   "execution_count": 28,
   "metadata": {
    "collapsed": false,
    "jupyter": {
     "outputs_hidden": false
    },
    "pycharm": {
     "is_executing": true
    }
   },
   "outputs": [
    {
     "name": "stdout",
     "output_type": "stream",
     "text": [
      "+--------+------------+-----------+\n",
      "|actor_id|       actor|films_count|\n",
      "+--------+------------+-----------+\n",
      "|      17|HELEN VOIGHT|          7|\n",
      "|     140| WHOOPI HURT|          5|\n",
      "|      80|  RALPH CRUZ|          5|\n",
      "+--------+------------+-----------+\n",
      "\n"
     ]
    }
   ],
   "source": [
    "film_actor_category_joined_df = film_actor_df.join(\n",
    "    actor_df,\n",
    "    film_actor_df.actor_id == actor_df.actor_id,\n",
    "    \"inner\"\n",
    ").join(\n",
    "    film_category_df,\n",
    "    film_actor_df.film_id == film_category_df.film_id,\n",
    "    \"inner\"\n",
    ").join(\n",
    "    category_df,\n",
    "    film_category_df.category_id == category_df.category_id,\n",
    "    \"inner\"\n",
    ")\n",
    "\n",
    "actors_children_category_df = film_actor_category_joined_df.filter(\n",
    "    category_df[\"name\"] == \"Children\"\n",
    ")\n",
    "\n",
    "actor_children_film_count_df = actors_children_category_df.groupBy(\n",
    "    actor_df.actor_id,\n",
    "    F.concat_ws(\" \", actor_df.first_name, actor_df.last_name).alias(\"actor\")\n",
    ").agg(\n",
    "    F.count(film_actor_df.film_id).alias(\"films_count\")\n",
    ").orderBy(\n",
    "    F.col(\"films_count\").desc()\n",
    ").limit(3)\n",
    "\n",
    "actor_children_film_count_df.show()"
   ]
  },
  {
   "cell_type": "code",
   "execution_count": null,
   "metadata": {
    "collapsed": false,
    "jupyter": {
     "outputs_hidden": false
    }
   },
   "outputs": [],
   "source": []
  },
  {
   "cell_type": "markdown",
   "metadata": {
    "collapsed": false,
    "jupyter": {
     "outputs_hidden": false
    }
   },
   "source": [
    "Stop Spark session:"
   ]
  },
  {
   "cell_type": "code",
   "execution_count": 30,
   "metadata": {
    "collapsed": false,
    "jupyter": {
     "outputs_hidden": false
    }
   },
   "outputs": [],
   "source": [
    "spark.stop()"
   ]
  },
  {
   "cell_type": "code",
   "execution_count": null,
   "metadata": {},
   "outputs": [],
   "source": []
  }
 ],
 "metadata": {
  "kernelspec": {
   "display_name": "Python 3 (ipykernel)",
   "language": "python",
   "name": "python3"
  },
  "language_info": {
   "codemirror_mode": {
    "name": "ipython",
    "version": 3
   },
   "file_extension": ".py",
   "mimetype": "text/x-python",
   "name": "python",
   "nbconvert_exporter": "python",
   "pygments_lexer": "ipython3",
   "version": "3.12.9"
  }
 },
 "nbformat": 4,
 "nbformat_minor": 4
}
